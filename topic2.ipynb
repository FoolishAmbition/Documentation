{
  "nbformat": 4,
  "nbformat_minor": 0,
  "metadata": {
    "colab": {
      "provenance": [],
      "include_colab_link": true
    },
    "kernelspec": {
      "name": "python3",
      "display_name": "Python 3"
    },
    "language_info": {
      "name": "python"
    }
  },
  "cells": [
    {
      "cell_type": "markdown",
      "metadata": {
        "id": "view-in-github",
        "colab_type": "text"
      },
      "source": [
        "<a href=\"https://colab.research.google.com/github/FoolishAmbition/Documentation/blob/main/topic2.ipynb\" target=\"_parent\"><img src=\"https://colab.research.google.com/assets/colab-badge.svg\" alt=\"Open In Colab\"/></a>"
      ]
    },
    {
      "cell_type": "markdown",
      "source": [
        "https://colab.research.google.com/drive/1Ujh9MLPHqX3-ES4YgyedO7-SW-U3FRMN?usp=sharing"
      ],
      "metadata": {
        "id": "hvErsFROZmmk"
      }
    },
    {
      "cell_type": "markdown",
      "source": [
        "https://www.asciitable.com/\n",
        "\n",
        "# 1. String\n",
        "\n",
        "each character is stored as individual ascii value\n",
        "\n",
        "so a string is made up of many characters, so a string is a collection of characters, each represented as ascii value\n",
        "\n",
        "##1.2 String need to be demarcated\n",
        "\n",
        "(say where start using ', \"\" etc)"
      ],
      "metadata": {
        "id": "cTDFpvHwZgzD"
      }
    },
    {
      "cell_type": "code",
      "source": [
        "# start and end of collection must be told to python interpretator\n",
        "s1 = 'hello'\n",
        "s2 = \"I'm hungry\"\n",
        "s1, s2"
      ],
      "metadata": {
        "colab": {
          "base_uri": "https://localhost:8080/"
        },
        "id": "tqODeeE2Zs2M",
        "outputId": "d3a91f91-830b-4c0b-a516-d0eae308a129"
      },
      "execution_count": null,
      "outputs": [
        {
          "output_type": "execute_result",
          "data": {
            "text/plain": [
              "('hello', \"I'm hungry\")"
            ]
          },
          "metadata": {},
          "execution_count": 1
        }
      ]
    },
    {
      "cell_type": "code",
      "source": [
        "#multiline str\n",
        "s3 = '''Jane says,\"I'm hungry\"'''\n",
        "s4 = \"\"\"\n",
        "\n",
        "\"\"\"\n",
        "s3, s4"
      ],
      "metadata": {
        "colab": {
          "base_uri": "https://localhost:8080/"
        },
        "id": "69rzP41Zapu1",
        "outputId": "3630ff61-695b-45ae-8d81-27988324816a"
      },
      "execution_count": null,
      "outputs": [
        {
          "output_type": "execute_result",
          "data": {
            "text/plain": [
              "('Jane says,\"I\\'m hungry\"', '\\n\\n')"
            ]
          },
          "metadata": {},
          "execution_count": 2
        }
      ]
    },
    {
      "cell_type": "markdown",
      "source": [
        "## 1.2 Accessing individual values in a string"
      ],
      "metadata": {
        "id": "KyiqIVUbiuvY"
      }
    },
    {
      "cell_type": "code",
      "source": [
        "# indexing - get a value in the collection based on 0-based index\n",
        "s3[0]"
      ],
      "metadata": {
        "colab": {
          "base_uri": "https://localhost:8080/",
          "height": 35
        },
        "id": "FfDmHBUwbSzX",
        "outputId": "c076cb11-8089-4318-806d-44619ed2fa6c"
      },
      "execution_count": null,
      "outputs": [
        {
          "output_type": "execute_result",
          "data": {
            "text/plain": [
              "'J'"
            ],
            "application/vnd.google.colaboratory.intrinsic+json": {
              "type": "string"
            }
          },
          "metadata": {},
          "execution_count": 3
        }
      ]
    },
    {
      "cell_type": "code",
      "source": [
        "s3[10]"
      ],
      "metadata": {
        "colab": {
          "base_uri": "https://localhost:8080/",
          "height": 35
        },
        "id": "z85oR2Embqt5",
        "outputId": "3d22ef43-8453-4b8f-c410-eefc66b0f61c"
      },
      "execution_count": null,
      "outputs": [
        {
          "output_type": "execute_result",
          "data": {
            "text/plain": [
              "'\"'"
            ],
            "application/vnd.google.colaboratory.intrinsic+json": {
              "type": "string"
            }
          },
          "metadata": {},
          "execution_count": 6
        }
      ]
    },
    {
      "cell_type": "code",
      "source": [
        "s4[0]"
      ],
      "metadata": {
        "colab": {
          "base_uri": "https://localhost:8080/",
          "height": 35
        },
        "id": "qqwtyD8Wb-62",
        "outputId": "3a6a20e1-8b38-4edd-a7f0-6d01e4f95f9f"
      },
      "execution_count": null,
      "outputs": [
        {
          "output_type": "execute_result",
          "data": {
            "text/plain": [
              "'\\n'"
            ],
            "application/vnd.google.colaboratory.intrinsic+json": {
              "type": "string"
            }
          },
          "metadata": {},
          "execution_count": 7
        }
      ]
    },
    {
      "cell_type": "code",
      "source": [
        "len(s3) # number of values in the collection"
      ],
      "metadata": {
        "colab": {
          "base_uri": "https://localhost:8080/"
        },
        "id": "RnGNAirucIi3",
        "outputId": "1a179c8b-ba4a-48c7-f237-c5aabecb5220"
      },
      "execution_count": null,
      "outputs": [
        {
          "output_type": "execute_result",
          "data": {
            "text/plain": [
              "22"
            ]
          },
          "metadata": {},
          "execution_count": 8
        }
      ]
    },
    {
      "cell_type": "code",
      "source": [
        "# valid 0, 1, ..., 21\n",
        "s3[22]"
      ],
      "metadata": {
        "colab": {
          "base_uri": "https://localhost:8080/",
          "height": 159
        },
        "id": "tCSMotmHcZJr",
        "outputId": "c777652b-a10a-4686-a7f6-a40d1eac2066"
      },
      "execution_count": null,
      "outputs": [
        {
          "output_type": "error",
          "ename": "IndexError",
          "evalue": "string index out of range",
          "traceback": [
            "\u001b[0;31m---------------------------------------------------------------------------\u001b[0m",
            "\u001b[0;31mIndexError\u001b[0m                                Traceback (most recent call last)",
            "\u001b[0;32m/tmp/ipython-input-810428938.py\u001b[0m in \u001b[0;36m<cell line: 0>\u001b[0;34m()\u001b[0m\n\u001b[1;32m      1\u001b[0m \u001b[0;31m# valid 0, 1, ..., 21\u001b[0m\u001b[0;34m\u001b[0m\u001b[0;34m\u001b[0m\u001b[0m\n\u001b[0;32m----> 2\u001b[0;31m \u001b[0ms3\u001b[0m\u001b[0;34m[\u001b[0m\u001b[0;36m22\u001b[0m\u001b[0;34m]\u001b[0m\u001b[0;34m\u001b[0m\u001b[0;34m\u001b[0m\u001b[0m\n\u001b[0m",
            "\u001b[0;31mIndexError\u001b[0m: string index out of range"
          ]
        }
      ]
    },
    {
      "cell_type": "code",
      "source": [
        "s3[-22]"
      ],
      "metadata": {
        "colab": {
          "base_uri": "https://localhost:8080/",
          "height": 35
        },
        "id": "DflK6UqSckrZ",
        "outputId": "75fb5030-81aa-4a9d-e655-150f7675903b"
      },
      "execution_count": null,
      "outputs": [
        {
          "output_type": "execute_result",
          "data": {
            "text/plain": [
              "'J'"
            ],
            "application/vnd.google.colaboratory.intrinsic+json": {
              "type": "string"
            }
          },
          "metadata": {},
          "execution_count": 11
        }
      ]
    },
    {
      "cell_type": "code",
      "source": [
        "s3[-23]"
      ],
      "metadata": {
        "colab": {
          "base_uri": "https://localhost:8080/",
          "height": 141
        },
        "id": "coAZwJZteKWQ",
        "outputId": "b25432ad-0d2f-4555-d3c8-c81092bd5803"
      },
      "execution_count": null,
      "outputs": [
        {
          "output_type": "error",
          "ename": "IndexError",
          "evalue": "string index out of range",
          "traceback": [
            "\u001b[0;31m---------------------------------------------------------------------------\u001b[0m",
            "\u001b[0;31mIndexError\u001b[0m                                Traceback (most recent call last)",
            "\u001b[0;32m/tmp/ipython-input-2405935487.py\u001b[0m in \u001b[0;36m<cell line: 0>\u001b[0;34m()\u001b[0m\n\u001b[0;32m----> 1\u001b[0;31m \u001b[0ms3\u001b[0m\u001b[0;34m[\u001b[0m\u001b[0;34m-\u001b[0m\u001b[0;36m23\u001b[0m\u001b[0;34m]\u001b[0m\u001b[0;34m\u001b[0m\u001b[0;34m\u001b[0m\u001b[0m\n\u001b[0m",
            "\u001b[0;31mIndexError\u001b[0m: string index out of range"
          ]
        }
      ]
    },
    {
      "cell_type": "markdown",
      "source": [
        "## 1.3 slicing - pick up 0 or more values, NO index error\n",
        "\n",
        "s3[start: stop -not including: step]\n",
        "\n",
        "generate the indexes and pick up those values at the indexes\n",
        "\n",
        "###1.3.1 Positive step"
      ],
      "metadata": {
        "id": "fs3xO5iJezqJ"
      }
    },
    {
      "cell_type": "code",
      "source": [
        "s3[1:5:1]\n",
        "\n",
        "# generate 1, 2, 3, 4,                 5 is not included"
      ],
      "metadata": {
        "colab": {
          "base_uri": "https://localhost:8080/",
          "height": 35
        },
        "id": "rk-e8D64e8Aq",
        "outputId": "c428f9db-65cb-4c30-86fb-f0eab8ea38a1"
      },
      "execution_count": null,
      "outputs": [
        {
          "output_type": "execute_result",
          "data": {
            "text/plain": [
              "'ane '"
            ],
            "application/vnd.google.colaboratory.intrinsic+json": {
              "type": "string"
            }
          },
          "metadata": {},
          "execution_count": 14
        }
      ]
    },
    {
      "cell_type": "code",
      "source": [
        "s3[1:5:2]\n",
        "# generate 1, 3,       5 is not included"
      ],
      "metadata": {
        "colab": {
          "base_uri": "https://localhost:8080/",
          "height": 35
        },
        "id": "n7n0xXFde3km",
        "outputId": "70f238ee-4ffa-436f-9ec9-a3027de60026"
      },
      "execution_count": null,
      "outputs": [
        {
          "output_type": "execute_result",
          "data": {
            "text/plain": [
              "'ae'"
            ],
            "application/vnd.google.colaboratory.intrinsic+json": {
              "type": "string"
            }
          },
          "metadata": {},
          "execution_count": 15
        }
      ]
    },
    {
      "cell_type": "code",
      "source": [
        "s3"
      ],
      "metadata": {
        "colab": {
          "base_uri": "https://localhost:8080/",
          "height": 35
        },
        "id": "C7S3xNc_eTmt",
        "outputId": "19a84f64-885c-4834-fb67-3b117d879ba1"
      },
      "execution_count": null,
      "outputs": [
        {
          "output_type": "execute_result",
          "data": {
            "text/plain": [
              "'Jane says,\"I\\'m hungry\"'"
            ],
            "application/vnd.google.colaboratory.intrinsic+json": {
              "type": "string"
            }
          },
          "metadata": {},
          "execution_count": 16
        }
      ]
    },
    {
      "cell_type": "code",
      "source": [
        "s3[10], s3[21]"
      ],
      "metadata": {
        "colab": {
          "base_uri": "https://localhost:8080/"
        },
        "id": "mkN5-Nxifzp4",
        "outputId": "abdb48b1-464c-4ea5-acc7-1fb52f9065f8"
      },
      "execution_count": null,
      "outputs": [
        {
          "output_type": "execute_result",
          "data": {
            "text/plain": [
              "('\"', '\"')"
            ]
          },
          "metadata": {},
          "execution_count": 18
        }
      ]
    },
    {
      "cell_type": "code",
      "source": [
        "s3[10: 21: 1]  # 10, 11, 12, 13, 14, 15, 16, 17, 18, 19, 20,           21 is not included"
      ],
      "metadata": {
        "colab": {
          "base_uri": "https://localhost:8080/",
          "height": 35
        },
        "id": "LUAT1kTRf8tb",
        "outputId": "6946ea11-06cc-4080-8617-6d3ad5933d5d"
      },
      "execution_count": null,
      "outputs": [
        {
          "output_type": "execute_result",
          "data": {
            "text/plain": [
              "'\"I\\'m hungry'"
            ],
            "application/vnd.google.colaboratory.intrinsic+json": {
              "type": "string"
            }
          },
          "metadata": {},
          "execution_count": 19
        }
      ]
    },
    {
      "cell_type": "code",
      "source": [
        "s3[10: 22: 1] # 10, 11, 12, 13, 14, 15, 16, 17, 18, 19, 20, 21.     22 is not included"
      ],
      "metadata": {
        "colab": {
          "base_uri": "https://localhost:8080/",
          "height": 35
        },
        "id": "OTELpIsBgXbu",
        "outputId": "817bff26-55ba-4c47-802b-f1f578b9f11b"
      },
      "execution_count": null,
      "outputs": [
        {
          "output_type": "execute_result",
          "data": {
            "text/plain": [
              "'\"I\\'m hungry\"'"
            ],
            "application/vnd.google.colaboratory.intrinsic+json": {
              "type": "string"
            }
          },
          "metadata": {},
          "execution_count": 20
        }
      ]
    },
    {
      "cell_type": "code",
      "source": [
        "s3[10: 220000000000: 1] # 10, 11, 12, 13, 14, 15, 16, 17, 18, 19, 20, 21"
      ],
      "metadata": {
        "colab": {
          "base_uri": "https://localhost:8080/",
          "height": 35
        },
        "id": "OoaB4h6DgkMB",
        "outputId": "4fdd7c11-4438-4536-cb2e-c919d8e619c1"
      },
      "execution_count": null,
      "outputs": [
        {
          "output_type": "execute_result",
          "data": {
            "text/plain": [
              "'\"I\\'m hungry\"'"
            ],
            "application/vnd.google.colaboratory.intrinsic+json": {
              "type": "string"
            }
          },
          "metadata": {},
          "execution_count": 22
        }
      ]
    },
    {
      "cell_type": "markdown",
      "source": [
        "if step is 1, it is the default, not need to specify"
      ],
      "metadata": {
        "id": "AOjmypXyg24t"
      }
    },
    {
      "cell_type": "code",
      "source": [
        "s3[10: 22]"
      ],
      "metadata": {
        "colab": {
          "base_uri": "https://localhost:8080/",
          "height": 35
        },
        "id": "vQzub-8CgzWY",
        "outputId": "9fd66076-8083-41b4-f208-1822f1d9c524"
      },
      "execution_count": null,
      "outputs": [
        {
          "output_type": "execute_result",
          "data": {
            "text/plain": [
              "'\"I\\'m hungry\"'"
            ],
            "application/vnd.google.colaboratory.intrinsic+json": {
              "type": "string"
            }
          },
          "metadata": {},
          "execution_count": 23
        }
      ]
    },
    {
      "cell_type": "markdown",
      "source": [
        "if I want to go to the end of the str, don't need to specify the end but still need the :"
      ],
      "metadata": {
        "id": "_6Hi2YsuhLjU"
      }
    },
    {
      "cell_type": "code",
      "source": [
        "s3[10:]"
      ],
      "metadata": {
        "colab": {
          "base_uri": "https://localhost:8080/",
          "height": 35
        },
        "id": "6WdT1qHthULG",
        "outputId": "337666c7-1e9a-4f29-fe52-be50d5909c7b"
      },
      "execution_count": null,
      "outputs": [
        {
          "output_type": "execute_result",
          "data": {
            "text/plain": [
              "'\"I\\'m hungry\"'"
            ],
            "application/vnd.google.colaboratory.intrinsic+json": {
              "type": "string"
            }
          },
          "metadata": {},
          "execution_count": 24
        }
      ]
    },
    {
      "cell_type": "code",
      "source": [
        "s3[10::2] # 10, 12, 14, 16, 18, 20,        22 out of range"
      ],
      "metadata": {
        "colab": {
          "base_uri": "https://localhost:8080/",
          "height": 35
        },
        "id": "Ad_x3t9ChKxo",
        "outputId": "84c2939c-feb6-44e6-8971-084e932f3475"
      },
      "execution_count": null,
      "outputs": [
        {
          "output_type": "execute_result",
          "data": {
            "text/plain": [
              "'\"\\' ugy'"
            ],
            "application/vnd.google.colaboratory.intrinsic+json": {
              "type": "string"
            }
          },
          "metadata": {},
          "execution_count": 25
        }
      ]
    },
    {
      "cell_type": "code",
      "source": [
        "s3[:] # begining to the end of string, step is position then start is L and end of str is R"
      ],
      "metadata": {
        "colab": {
          "base_uri": "https://localhost:8080/",
          "height": 35
        },
        "id": "Ae6sHd18l-Br",
        "outputId": "d6e951ad-e724-4eef-e082-4f5237090158"
      },
      "execution_count": null,
      "outputs": [
        {
          "output_type": "execute_result",
          "data": {
            "text/plain": [
              "'Jane says,\"I\\'m hungry\"'"
            ],
            "application/vnd.google.colaboratory.intrinsic+json": {
              "type": "string"
            }
          },
          "metadata": {},
          "execution_count": 33
        }
      ]
    },
    {
      "cell_type": "code",
      "source": [
        "s3[:5] # s3[0:5:1] first 5 characters"
      ],
      "metadata": {
        "colab": {
          "base_uri": "https://localhost:8080/",
          "height": 35
        },
        "id": "VjH1CHkomShG",
        "outputId": "dc4af6d8-b0e3-4278-bcce-5aff11f53311"
      },
      "execution_count": null,
      "outputs": [
        {
          "output_type": "execute_result",
          "data": {
            "text/plain": [
              "'Jane '"
            ],
            "application/vnd.google.colaboratory.intrinsic+json": {
              "type": "string"
            }
          },
          "metadata": {},
          "execution_count": 34
        }
      ]
    },
    {
      "cell_type": "markdown",
      "source": [
        "###1.3.2 Negative steps\n",
        "\n",
        "Starting from the right\n",
        "\n",
        "the start must be larger than the stop"
      ],
      "metadata": {
        "id": "VnKnI-BciTPm"
      }
    },
    {
      "cell_type": "code",
      "source": [
        "s3[22:10:-1] # 22, 21, 20, 19, 18, 17, 16, 15, 14, 13, 12, 11         10 not included"
      ],
      "metadata": {
        "colab": {
          "base_uri": "https://localhost:8080/",
          "height": 35
        },
        "id": "o-8FXvLgjY1D",
        "outputId": "bbda82d6-e3ad-445e-a4aa-412d5ca2cf64"
      },
      "execution_count": null,
      "outputs": [
        {
          "output_type": "execute_result",
          "data": {
            "text/plain": [
              "'\"yrgnuh m\\'I'"
            ],
            "application/vnd.google.colaboratory.intrinsic+json": {
              "type": "string"
            }
          },
          "metadata": {},
          "execution_count": 26
        }
      ]
    },
    {
      "cell_type": "code",
      "source": [
        "s3[22:9:-1] # 22, 21, 20, 19, 18, 17, 16, 15, 14, 13, 12, 11, 10         9 not included"
      ],
      "metadata": {
        "colab": {
          "base_uri": "https://localhost:8080/",
          "height": 35
        },
        "id": "8g7_J9TRiRz8",
        "outputId": "e34482df-7229-4c7f-8fc3-b1355507dd6e"
      },
      "execution_count": null,
      "outputs": [
        {
          "output_type": "execute_result",
          "data": {
            "text/plain": [
              "'\"yrgnuh m\\'I\"'"
            ],
            "application/vnd.google.colaboratory.intrinsic+json": {
              "type": "string"
            }
          },
          "metadata": {},
          "execution_count": 27
        }
      ]
    },
    {
      "cell_type": "code",
      "source": [
        "s3[-12]"
      ],
      "metadata": {
        "colab": {
          "base_uri": "https://localhost:8080/",
          "height": 35
        },
        "id": "HygmX5itj_H9",
        "outputId": "c9efb6b7-bfc8-423f-c8cb-a865e5fbfd3c"
      },
      "execution_count": null,
      "outputs": [
        {
          "output_type": "execute_result",
          "data": {
            "text/plain": [
              "'\"'"
            ],
            "application/vnd.google.colaboratory.intrinsic+json": {
              "type": "string"
            }
          },
          "metadata": {},
          "execution_count": 30
        }
      ]
    },
    {
      "cell_type": "code",
      "source": [
        "s3[-1:-12:-1]"
      ],
      "metadata": {
        "colab": {
          "base_uri": "https://localhost:8080/",
          "height": 35
        },
        "id": "8X_qu3VWkOXy",
        "outputId": "e3ba5422-7c02-4a4b-acb5-34851a8995d3"
      },
      "execution_count": null,
      "outputs": [
        {
          "output_type": "execute_result",
          "data": {
            "text/plain": [
              "'\"yrgnuh m\\'I'"
            ],
            "application/vnd.google.colaboratory.intrinsic+json": {
              "type": "string"
            }
          },
          "metadata": {},
          "execution_count": 31
        }
      ]
    },
    {
      "cell_type": "code",
      "source": [
        "s3[-1::-1] # since we start from the right of the str, the end will be on the left"
      ],
      "metadata": {
        "colab": {
          "base_uri": "https://localhost:8080/",
          "height": 35
        },
        "id": "82TtrNoIkc2F",
        "outputId": "e9851bf9-f493-422a-c874-21827140116c"
      },
      "execution_count": null,
      "outputs": [
        {
          "output_type": "execute_result",
          "data": {
            "text/plain": [
              "'\"yrgnuh m\\'I\",syas enaJ'"
            ],
            "application/vnd.google.colaboratory.intrinsic+json": {
              "type": "string"
            }
          },
          "metadata": {},
          "execution_count": 32
        }
      ]
    },
    {
      "cell_type": "code",
      "source": [
        "s3[:5:-1] # s3[21:5:-1]"
      ],
      "metadata": {
        "colab": {
          "base_uri": "https://localhost:8080/",
          "height": 35
        },
        "id": "hw3xSat6mlq6",
        "outputId": "df4c9fbd-ef84-4fe1-e3f5-09d5ad47e00c"
      },
      "execution_count": null,
      "outputs": [
        {
          "output_type": "execute_result",
          "data": {
            "text/plain": [
              "'\"yrgnuh m\\'I\",sya'"
            ],
            "application/vnd.google.colaboratory.intrinsic+json": {
              "type": "string"
            }
          },
          "metadata": {},
          "execution_count": 38
        }
      ]
    },
    {
      "cell_type": "code",
      "source": [
        "s3[6], s3[5]"
      ],
      "metadata": {
        "colab": {
          "base_uri": "https://localhost:8080/"
        },
        "id": "7PUMRUW2lzip",
        "outputId": "cba4f9c2-674b-4122-cee3-c83fca31aec0"
      },
      "execution_count": null,
      "outputs": [
        {
          "output_type": "execute_result",
          "data": {
            "text/plain": [
              "('a', 's')"
            ]
          },
          "metadata": {},
          "execution_count": 36
        }
      ]
    },
    {
      "cell_type": "markdown",
      "source": [
        "positive step, start is left, stop is right\n",
        "\n",
        "negative step, start is right, stop is left"
      ],
      "metadata": {
        "id": "lBJ-7I5lnY69"
      }
    },
    {
      "cell_type": "markdown",
      "source": [
        "## 1.4 String operators\n",
        "\n",
        "* repetition: one str and 1 int\n",
        "\n",
        "+ : must be 2 str"
      ],
      "metadata": {
        "id": "mGcHqo8QqKqY"
      }
    },
    {
      "cell_type": "code",
      "source": [
        "s3 * 3"
      ],
      "metadata": {
        "colab": {
          "base_uri": "https://localhost:8080/",
          "height": 35
        },
        "id": "2_0InKWPqeJa",
        "outputId": "61037ace-f3ec-4c27-cec7-21e12661c608"
      },
      "execution_count": null,
      "outputs": [
        {
          "output_type": "execute_result",
          "data": {
            "text/plain": [
              "'Jane says,\"I\\'m hungry\"Jane says,\"I\\'m hungry\"Jane says,\"I\\'m hungry\"'"
            ],
            "application/vnd.google.colaboratory.intrinsic+json": {
              "type": "string"
            }
          },
          "metadata": {},
          "execution_count": 39
        }
      ]
    },
    {
      "cell_type": "code",
      "source": [
        "s3 * s2"
      ],
      "metadata": {
        "colab": {
          "base_uri": "https://localhost:8080/",
          "height": 141
        },
        "id": "SsOmYoIgq4Xj",
        "outputId": "17775822-ce4c-4f03-c563-fa3e4ad75c65"
      },
      "execution_count": null,
      "outputs": [
        {
          "output_type": "error",
          "ename": "TypeError",
          "evalue": "can't multiply sequence by non-int of type 'str'",
          "traceback": [
            "\u001b[0;31m---------------------------------------------------------------------------\u001b[0m",
            "\u001b[0;31mTypeError\u001b[0m                                 Traceback (most recent call last)",
            "\u001b[0;32m/tmp/ipython-input-4019911172.py\u001b[0m in \u001b[0;36m<cell line: 0>\u001b[0;34m()\u001b[0m\n\u001b[0;32m----> 1\u001b[0;31m \u001b[0ms3\u001b[0m \u001b[0;34m*\u001b[0m \u001b[0ms2\u001b[0m\u001b[0;34m\u001b[0m\u001b[0;34m\u001b[0m\u001b[0m\n\u001b[0m",
            "\u001b[0;31mTypeError\u001b[0m: can't multiply sequence by non-int of type 'str'"
          ]
        }
      ]
    },
    {
      "cell_type": "code",
      "source": [
        "s2 + 5"
      ],
      "metadata": {
        "colab": {
          "base_uri": "https://localhost:8080/",
          "height": 141
        },
        "id": "3FHF3p6crCIp",
        "outputId": "5cd4b937-78af-4f55-8775-776d70bfd508"
      },
      "execution_count": null,
      "outputs": [
        {
          "output_type": "error",
          "ename": "TypeError",
          "evalue": "can only concatenate str (not \"int\") to str",
          "traceback": [
            "\u001b[0;31m---------------------------------------------------------------------------\u001b[0m",
            "\u001b[0;31mTypeError\u001b[0m                                 Traceback (most recent call last)",
            "\u001b[0;32m/tmp/ipython-input-2752684520.py\u001b[0m in \u001b[0;36m<cell line: 0>\u001b[0;34m()\u001b[0m\n\u001b[0;32m----> 1\u001b[0;31m \u001b[0ms2\u001b[0m \u001b[0;34m+\u001b[0m \u001b[0;36m5\u001b[0m\u001b[0;34m\u001b[0m\u001b[0;34m\u001b[0m\u001b[0m\n\u001b[0m",
            "\u001b[0;31mTypeError\u001b[0m: can only concatenate str (not \"int\") to str"
          ]
        }
      ]
    },
    {
      "cell_type": "code",
      "source": [
        "str(5)"
      ],
      "metadata": {
        "colab": {
          "base_uri": "https://localhost:8080/",
          "height": 35
        },
        "id": "wmrGmUpZrilN",
        "outputId": "557ad98c-fe97-4a08-fbc0-6aff9c2ce110"
      },
      "execution_count": null,
      "outputs": [
        {
          "output_type": "execute_result",
          "data": {
            "text/plain": [
              "'5'"
            ],
            "application/vnd.google.colaboratory.intrinsic+json": {
              "type": "string"
            }
          },
          "metadata": {},
          "execution_count": 44
        }
      ]
    },
    {
      "cell_type": "code",
      "source": [
        "s3 + str(5)"
      ],
      "metadata": {
        "colab": {
          "base_uri": "https://localhost:8080/",
          "height": 35
        },
        "id": "diEKV74jrfAN",
        "outputId": "f462c151-97a8-47d0-c4eb-0d8bda367059"
      },
      "execution_count": null,
      "outputs": [
        {
          "output_type": "execute_result",
          "data": {
            "text/plain": [
              "'Jane says,\"I\\'m hungry\"5'"
            ],
            "application/vnd.google.colaboratory.intrinsic+json": {
              "type": "string"
            }
          },
          "metadata": {},
          "execution_count": 45
        }
      ]
    },
    {
      "cell_type": "code",
      "source": [
        "s2 + s3"
      ],
      "metadata": {
        "id": "HYBFumu0noCv",
        "colab": {
          "base_uri": "https://localhost:8080/",
          "height": 35
        },
        "outputId": "cde23375-55c2-43b6-b9f9-49619ecaea52"
      },
      "execution_count": null,
      "outputs": [
        {
          "output_type": "execute_result",
          "data": {
            "text/plain": [
              "'I\\'m hungryJane says,\"I\\'m hungry\"'"
            ],
            "application/vnd.google.colaboratory.intrinsic+json": {
              "type": "string"
            }
          },
          "metadata": {},
          "execution_count": 41
        }
      ]
    },
    {
      "cell_type": "markdown",
      "source": [
        "##1.5 String methods\n",
        "\n",
        "call methods using a value from that class and use the dot notation"
      ],
      "metadata": {
        "id": "WpOoUhjetMm9"
      }
    },
    {
      "cell_type": "code",
      "source": [
        "s1, s1.capitalize()"
      ],
      "metadata": {
        "colab": {
          "base_uri": "https://localhost:8080/"
        },
        "id": "m8h8-KFxtIrF",
        "outputId": "a7cdafa5-3f7b-44f7-feee-219cdff12efe"
      },
      "execution_count": null,
      "outputs": [
        {
          "output_type": "execute_result",
          "data": {
            "text/plain": [
              "('hello', 'Hello')"
            ]
          },
          "metadata": {},
          "execution_count": 47
        }
      ]
    },
    {
      "cell_type": "code",
      "source": [
        "c"
      ],
      "metadata": {
        "colab": {
          "base_uri": "https://localhost:8080/"
        },
        "id": "wzuySz39tss8",
        "outputId": "c2884180-fadd-42e2-c62b-a0a419a79bde"
      },
      "execution_count": null,
      "outputs": [
        {
          "output_type": "stream",
          "name": "stdout",
          "text": [
            "Enter three numbers, separated by space: 1 1.2 1.4\n",
            "The sum of 1.0, 1.2 and 1.4 is 3.6 and the average is 1.20\n",
            "The sum of 1.0, 1.2 and 1.4 is 3.6 and the avaerage is 1.2\n"
          ]
        },
        {
          "output_type": "execute_result",
          "data": {
            "text/plain": [
              "(3.6, 1.2)"
            ]
          },
          "metadata": {},
          "execution_count": 49
        }
      ]
    },
    {
      "cell_type": "code",
      "source": [
        "def q2():\n",
        "    n1, n2, n3 = map(float, input('Enter three numbers, separated by space: ').split())\n",
        "    # list unpacking\n",
        "    # n1, n2, n3 = float(n1), float(n2), float(n3) # type convert each str into a float\n",
        "\n",
        "    sum_ = n1 + n2 + n3\n",
        "    avg = sum_/3\n",
        "\n",
        "    print(f'The sum of {n1}, {n2} and {n3} is {sum_} and the average is {avg:.2f}')\n",
        "    print('The sum of ', n1, ', ', n2, ' and ', n3, ' is ', sum_, ' and the avaerage is ', round(avg,2), sep = \"\")\n",
        "    return sum_, avg\n",
        "\n",
        "q2()"
      ],
      "metadata": {
        "id": "MtJlHVXpv9Js",
        "colab": {
          "base_uri": "https://localhost:8080/",
          "height": 321
        },
        "outputId": "fce8971f-dc92-45ad-e1d0-0404c4440ddb"
      },
      "execution_count": null,
      "outputs": [
        {
          "output_type": "error",
          "ename": "KeyboardInterrupt",
          "evalue": "Interrupted by user",
          "traceback": [
            "\u001b[0;31m---------------------------------------------------------------------------\u001b[0m",
            "\u001b[0;31mKeyboardInterrupt\u001b[0m                         Traceback (most recent call last)",
            "\u001b[0;32m/tmp/ipython-input-2174710055.py\u001b[0m in \u001b[0;36m<cell line: 0>\u001b[0;34m()\u001b[0m\n\u001b[1;32m     11\u001b[0m     \u001b[0;32mreturn\u001b[0m \u001b[0msum_\u001b[0m\u001b[0;34m,\u001b[0m \u001b[0mavg\u001b[0m\u001b[0;34m\u001b[0m\u001b[0;34m\u001b[0m\u001b[0m\n\u001b[1;32m     12\u001b[0m \u001b[0;34m\u001b[0m\u001b[0m\n\u001b[0;32m---> 13\u001b[0;31m \u001b[0mq2\u001b[0m\u001b[0;34m(\u001b[0m\u001b[0;34m)\u001b[0m\u001b[0;34m\u001b[0m\u001b[0;34m\u001b[0m\u001b[0m\n\u001b[0m",
            "\u001b[0;32m/tmp/ipython-input-2174710055.py\u001b[0m in \u001b[0;36mq2\u001b[0;34m()\u001b[0m\n\u001b[1;32m      1\u001b[0m \u001b[0;32mdef\u001b[0m \u001b[0mq2\u001b[0m\u001b[0;34m(\u001b[0m\u001b[0;34m)\u001b[0m\u001b[0;34m:\u001b[0m\u001b[0;34m\u001b[0m\u001b[0;34m\u001b[0m\u001b[0m\n\u001b[0;32m----> 2\u001b[0;31m     \u001b[0mn1\u001b[0m\u001b[0;34m,\u001b[0m \u001b[0mn2\u001b[0m\u001b[0;34m,\u001b[0m \u001b[0mn3\u001b[0m \u001b[0;34m=\u001b[0m \u001b[0mmap\u001b[0m\u001b[0;34m(\u001b[0m\u001b[0mfloat\u001b[0m\u001b[0;34m,\u001b[0m \u001b[0minput\u001b[0m\u001b[0;34m(\u001b[0m\u001b[0;34m'Enter three numbers, separated by space: '\u001b[0m\u001b[0;34m)\u001b[0m\u001b[0;34m.\u001b[0m\u001b[0msplit\u001b[0m\u001b[0;34m(\u001b[0m\u001b[0;34m)\u001b[0m\u001b[0;34m)\u001b[0m\u001b[0;34m\u001b[0m\u001b[0;34m\u001b[0m\u001b[0m\n\u001b[0m\u001b[1;32m      3\u001b[0m     \u001b[0;31m# list unpacking\u001b[0m\u001b[0;34m\u001b[0m\u001b[0;34m\u001b[0m\u001b[0m\n\u001b[1;32m      4\u001b[0m     \u001b[0;31m# n1, n2, n3 = float(n1), float(n2), float(n3) # type convert each str into a float\u001b[0m\u001b[0;34m\u001b[0m\u001b[0;34m\u001b[0m\u001b[0m\n\u001b[1;32m      5\u001b[0m \u001b[0;34m\u001b[0m\u001b[0m\n",
            "\u001b[0;32m/usr/local/lib/python3.12/dist-packages/ipykernel/kernelbase.py\u001b[0m in \u001b[0;36mraw_input\u001b[0;34m(self, prompt)\u001b[0m\n\u001b[1;32m   1175\u001b[0m                 \u001b[0;34m\"raw_input was called, but this frontend does not support input requests.\"\u001b[0m\u001b[0;34m\u001b[0m\u001b[0;34m\u001b[0m\u001b[0m\n\u001b[1;32m   1176\u001b[0m             )\n\u001b[0;32m-> 1177\u001b[0;31m         return self._input_request(\n\u001b[0m\u001b[1;32m   1178\u001b[0m             \u001b[0mstr\u001b[0m\u001b[0;34m(\u001b[0m\u001b[0mprompt\u001b[0m\u001b[0;34m)\u001b[0m\u001b[0;34m,\u001b[0m\u001b[0;34m\u001b[0m\u001b[0;34m\u001b[0m\u001b[0m\n\u001b[1;32m   1179\u001b[0m             \u001b[0mself\u001b[0m\u001b[0;34m.\u001b[0m\u001b[0m_parent_ident\u001b[0m\u001b[0;34m[\u001b[0m\u001b[0;34m\"shell\"\u001b[0m\u001b[0;34m]\u001b[0m\u001b[0;34m,\u001b[0m\u001b[0;34m\u001b[0m\u001b[0;34m\u001b[0m\u001b[0m\n",
            "\u001b[0;32m/usr/local/lib/python3.12/dist-packages/ipykernel/kernelbase.py\u001b[0m in \u001b[0;36m_input_request\u001b[0;34m(self, prompt, ident, parent, password)\u001b[0m\n\u001b[1;32m   1217\u001b[0m             \u001b[0;32mexcept\u001b[0m \u001b[0mKeyboardInterrupt\u001b[0m\u001b[0;34m:\u001b[0m\u001b[0;34m\u001b[0m\u001b[0;34m\u001b[0m\u001b[0m\n\u001b[1;32m   1218\u001b[0m                 \u001b[0;31m# re-raise KeyboardInterrupt, to truncate traceback\u001b[0m\u001b[0;34m\u001b[0m\u001b[0;34m\u001b[0m\u001b[0m\n\u001b[0;32m-> 1219\u001b[0;31m                 \u001b[0;32mraise\u001b[0m \u001b[0mKeyboardInterrupt\u001b[0m\u001b[0;34m(\u001b[0m\u001b[0;34m\"Interrupted by user\"\u001b[0m\u001b[0;34m)\u001b[0m \u001b[0;32mfrom\u001b[0m \u001b[0;32mNone\u001b[0m\u001b[0;34m\u001b[0m\u001b[0;34m\u001b[0m\u001b[0m\n\u001b[0m\u001b[1;32m   1220\u001b[0m             \u001b[0;32mexcept\u001b[0m \u001b[0mException\u001b[0m\u001b[0;34m:\u001b[0m\u001b[0;34m\u001b[0m\u001b[0;34m\u001b[0m\u001b[0m\n\u001b[1;32m   1221\u001b[0m                 \u001b[0mself\u001b[0m\u001b[0;34m.\u001b[0m\u001b[0mlog\u001b[0m\u001b[0;34m.\u001b[0m\u001b[0mwarning\u001b[0m\u001b[0;34m(\u001b[0m\u001b[0;34m\"Invalid Message:\"\u001b[0m\u001b[0;34m,\u001b[0m \u001b[0mexc_info\u001b[0m\u001b[0;34m=\u001b[0m\u001b[0;32mTrue\u001b[0m\u001b[0;34m)\u001b[0m\u001b[0;34m\u001b[0m\u001b[0;34m\u001b[0m\u001b[0m\n",
            "\u001b[0;31mKeyboardInterrupt\u001b[0m: Interrupted by user"
          ]
        }
      ]
    },
    {
      "cell_type": "code",
      "source": [
        "s3"
      ],
      "metadata": {
        "colab": {
          "base_uri": "https://localhost:8080/",
          "height": 35
        },
        "id": "QqQRnxt9wn28",
        "outputId": "86e6ea72-54f0-45ad-a6fa-0a0398e75748"
      },
      "execution_count": null,
      "outputs": [
        {
          "output_type": "execute_result",
          "data": {
            "text/plain": [
              "'Jane says,\"I\\'m hungry\"'"
            ],
            "application/vnd.google.colaboratory.intrinsic+json": {
              "type": "string"
            }
          },
          "metadata": {},
          "execution_count": 50
        }
      ]
    },
    {
      "cell_type": "code",
      "source": [
        "s3.strip('\"').strip(\"J\")"
      ],
      "metadata": {
        "colab": {
          "base_uri": "https://localhost:8080/",
          "height": 35
        },
        "id": "5Gt20oPAwvzj",
        "outputId": "e76c013c-da81-4c2c-87d8-9c297dd11643"
      },
      "execution_count": null,
      "outputs": [
        {
          "output_type": "execute_result",
          "data": {
            "text/plain": [
              "'ane says,\"I\\'m hungry'"
            ],
            "application/vnd.google.colaboratory.intrinsic+json": {
              "type": "string"
            }
          },
          "metadata": {},
          "execution_count": 52
        }
      ]
    },
    {
      "cell_type": "code",
      "source": [],
      "metadata": {
        "id": "8VAzK2ZExL-q"
      },
      "execution_count": null,
      "outputs": []
    },
    {
      "cell_type": "code",
      "source": [
        "n = int(input('Enter the property price: $'))"
      ],
      "metadata": {
        "colab": {
          "base_uri": "https://localhost:8080/",
          "height": 159
        },
        "id": "NF6L8WoZw-u_",
        "outputId": "bff72523-e1f7-4a47-dff1-4f07aacee93f"
      },
      "execution_count": null,
      "outputs": [
        {
          "name": "stdout",
          "output_type": "stream",
          "text": [
            "Enter the property price: $1,000,000\n"
          ]
        },
        {
          "output_type": "error",
          "ename": "ValueError",
          "evalue": "invalid literal for int() with base 10: '1,000,000'",
          "traceback": [
            "\u001b[0;31m---------------------------------------------------------------------------\u001b[0m",
            "\u001b[0;31mValueError\u001b[0m                                Traceback (most recent call last)",
            "\u001b[0;32m/tmp/ipython-input-3981407161.py\u001b[0m in \u001b[0;36m<cell line: 0>\u001b[0;34m()\u001b[0m\n\u001b[0;32m----> 1\u001b[0;31m \u001b[0mn\u001b[0m \u001b[0;34m=\u001b[0m \u001b[0mint\u001b[0m\u001b[0;34m(\u001b[0m\u001b[0minput\u001b[0m\u001b[0;34m(\u001b[0m\u001b[0;34m'Enter the property price: $'\u001b[0m\u001b[0;34m)\u001b[0m\u001b[0;34m)\u001b[0m\u001b[0;34m\u001b[0m\u001b[0;34m\u001b[0m\u001b[0m\n\u001b[0m",
            "\u001b[0;31mValueError\u001b[0m: invalid literal for int() with base 10: '1,000,000'"
          ]
        }
      ]
    },
    {
      "cell_type": "code",
      "source": [
        "n = int(input('Enter the property price: $').replace(\",\", \"\").replace(\" \", \"\").replace(\"$\", \"\"))\n",
        "n"
      ],
      "metadata": {
        "colab": {
          "base_uri": "https://localhost:8080/"
        },
        "id": "l_tqGpadxVRP",
        "outputId": "abee756d-b533-4023-c3a6-36e8047a1abe"
      },
      "execution_count": null,
      "outputs": [
        {
          "name": "stdout",
          "output_type": "stream",
          "text": [
            "Enter the property price: $$1,000 000\n"
          ]
        },
        {
          "output_type": "execute_result",
          "data": {
            "text/plain": [
              "1000000"
            ]
          },
          "metadata": {},
          "execution_count": 55
        }
      ]
    },
    {
      "cell_type": "markdown",
      "source": [
        "# 2. Selection statements"
      ],
      "metadata": {
        "id": "I8gG4a_-1EhW"
      }
    },
    {
      "cell_type": "markdown",
      "source": [
        "## 2.1 if keyword for single selection"
      ],
      "metadata": {
        "id": "PsbixrNS1Mzy"
      }
    },
    {
      "cell_type": "code",
      "source": [
        "  def q6():\n",
        "    discountRate = 0.5\n",
        "    serviceRate = 0.1\n",
        "    gstRate = 0.07\n",
        "\n",
        "    amt = float(input('Enter meal amount ($): '))\n",
        "\n",
        "    # processing to compute discount, service change, gst, final total\n",
        "    discountAmt = discountRate * amt\n",
        "    payableAmt = amt - discountAmt\n",
        "\n",
        "    isMember = input('Enter Y if customer is a member: ').upper()\n",
        "\n",
        "    if isMember == 'Y': # single selection\n",
        "        print('Member discount of 10%')\n",
        "        payableAmt = payableAmt - amt * 0.1\n",
        "        print(f'After further discount of ${amt * 0.1:.2f}, the meal cost ${payableAmt:.2f}')\n",
        "\n",
        "    payableService = serviceRate * payableAmt\n",
        "    payableGst = (payableAmt + payableService) * gstRate\n",
        "    width = 7\n",
        "    print(f\"\"\"\n",
        "Receipt\n",
        "Cost of meal:   ${amt:{width}.2f}\n",
        "50% discount:   ${discountAmt:{width}.2f}\n",
        "Service charge: ${payableService:{width}.2f}\n",
        "GST:            ${payableGst:{width}.2f}\n",
        "Total amount:   ${payableAmt+payableService+payableGst:{width}.2f}\n",
        "\"\"\") # numbers are right justified, str are left justified\n",
        "\n",
        "q6()"
      ],
      "metadata": {
        "colab": {
          "base_uri": "https://localhost:8080/"
        },
        "id": "iPpNZeNW1UsF",
        "outputId": "c3467d17-00ca-424f-f560-e60fec9f9c9b"
      },
      "execution_count": null,
      "outputs": [
        {
          "output_type": "stream",
          "name": "stdout",
          "text": [
            "Enter meal amount ($): 120\n",
            "Enter Y if customer is a member: y\n",
            "Member discount of 10%\n",
            "After further discount of $12.00, the meal cost $48.00\n",
            "\n",
            "Receipt\n",
            "Cost of meal:   $ 120.00\n",
            "50% discount:   $  60.00\n",
            "Service charge: $   4.80\n",
            "GST:            $   3.70\n",
            "Total amount:   $  56.50\n",
            "\n"
          ]
        }
      ]
    },
    {
      "cell_type": "markdown",
      "source": [
        "## 2.2 Double selection\n",
        "\n",
        "if - else"
      ],
      "metadata": {
        "id": "LpRUjl8T4u5G"
      }
    },
    {
      "cell_type": "code",
      "source": [
        "def q6():\n",
        "    discountRate = 0.5\n",
        "    serviceRate = 0.1\n",
        "    gstRate = 0.07\n",
        "\n",
        "    amt = float(input('Enter meal amount ($): '))\n",
        "\n",
        "    # processing to compute discount, service change, gst, final total\n",
        "    discountAmt = discountRate * amt\n",
        "    payableAmt = amt - discountAmt\n",
        "\n",
        "    isMember = input('Enter Y if customer is a member: ').upper()\n",
        "\n",
        "    if isMember == 'Y': # single selection\n",
        "        print('Member discount of 10%')\n",
        "        payableAmt = payableAmt - amt * 0.1\n",
        "        print(f'After further discount of ${amt * 0.1:.2f}, the meal cost ${payableAmt:.2f}')\n",
        "    else:\n",
        "        print('No member discount')\n",
        "        print(f'The meal cost ${payableAmt:.2f}')\n",
        "\n",
        "    payableService = serviceRate * payableAmt\n",
        "    payableGst = (payableAmt + payableService) * gstRate\n",
        "    width = 7\n",
        "    print(f\"\"\"\n",
        "Receipt\n",
        "Cost of meal:   ${amt:{width}.2f}\n",
        "50% discount:   ${discountAmt:{width}.2f}\n",
        "Service charge: ${payableService:{width}.2f}\n",
        "GST:            ${payableGst:{width}.2f}\n",
        "Total amount:   ${payableAmt+payableService+payableGst:{width}.2f}\n",
        "\"\"\") # numbers are right justified, str are left justified\n",
        "\n",
        "q6()"
      ],
      "metadata": {
        "colab": {
          "base_uri": "https://localhost:8080/"
        },
        "id": "y0nIs1Hj4t-3",
        "outputId": "e8f1cdde-067f-4a49-d64e-79f25f3d231d"
      },
      "execution_count": null,
      "outputs": [
        {
          "output_type": "stream",
          "name": "stdout",
          "text": [
            "Enter meal amount ($): 120\n",
            "Enter Y if customer is a member: n\n",
            "No member discount\n",
            "The meal cost $60.00\n",
            "\n",
            "Receipt\n",
            "Cost of meal:   $ 120.00\n",
            "50% discount:   $  60.00\n",
            "Service charge: $   6.00\n",
            "GST:            $   4.62\n",
            "Total amount:   $  70.62\n",
            "\n"
          ]
        }
      ]
    },
    {
      "cell_type": "markdown",
      "source": [
        "## 2.4 Multi-way Selection\n",
        "\n",
        "if-elif-elif .... elif\n",
        "\n",
        "if-elif-elif .... else"
      ],
      "metadata": {
        "id": "o5FgWrGA5qjU"
      }
    },
    {
      "cell_type": "code",
      "source": [
        "def q6():\n",
        "    discountRate = 0.5\n",
        "    serviceRate = 0.1\n",
        "    gstRate = 0.07\n",
        "\n",
        "    amt = float(input('Enter meal amount ($): '))\n",
        "\n",
        "    # processing to compute discount, service change, gst, final total\n",
        "    discountAmt = discountRate * amt\n",
        "    payableAmt = amt - discountAmt\n",
        "\n",
        "    isMember = input('Enter Y if customer is a member: ').upper()\n",
        "\n",
        "    if isMember == 'Y': # single selection\n",
        "        print('Member discount of 10%')\n",
        "        payableAmt = payableAmt - amt * 0.1\n",
        "        print(f'After further discount of ${amt * 0.1:.2f}, the meal cost ${payableAmt:.2f}')\n",
        "\n",
        "    elif payableAmt > 100:\n",
        "        print('Payable amount exceeds $100, you get 5% discount ')\n",
        "        payableAmt = payableAmt - amt * 0.05\n",
        "        print(f'After further discount of ${amt * 0.05:.2f}, the meal cost ${payableAmt:.2f}')\n",
        "\n",
        "    else:\n",
        "        print('No member and no further discount')\n",
        "        print(f'The meal cost ${payableAmt:.2f}')\n",
        "\n",
        "    payableService = serviceRate * payableAmt\n",
        "    payableGst = (payableAmt + payableService) * gstRate\n",
        "    width = 7\n",
        "    print(f\"\"\"\n",
        "Receipt\n",
        "Cost of meal:   ${amt:{width}.2f}\n",
        "50% discount:   ${discountAmt:{width}.2f}\n",
        "Service charge: ${payableService:{width}.2f}\n",
        "GST:            ${payableGst:{width}.2f}\n",
        "Total amount:   ${payableAmt+payableService+payableGst:{width}.2f}\n",
        "\"\"\") # numbers are right justified, str are left justified\n",
        "\n",
        "q6()"
      ],
      "metadata": {
        "colab": {
          "base_uri": "https://localhost:8080/"
        },
        "id": "hkQZAKcZ5pz9",
        "outputId": "723c016c-4334-43da-9a83-a634c6c756fc"
      },
      "execution_count": null,
      "outputs": [
        {
          "output_type": "stream",
          "name": "stdout",
          "text": [
            "Enter meal amount ($): 300\n",
            "Enter Y if customer is a member: n\n",
            "Payable amount exceeds $100, you get 5% discount \n",
            "After further discount of $15.00, the meal cost $135.00\n",
            "\n",
            "Receipt\n",
            "Cost of meal:   $ 300.00\n",
            "50% discount:   $ 150.00\n",
            "Service charge: $  13.50\n",
            "GST:            $  10.40\n",
            "Total amount:   $ 158.90\n",
            "\n"
          ]
        }
      ]
    },
    {
      "cell_type": "code",
      "source": [
        "n = -1\n",
        "n <= -1"
      ],
      "metadata": {
        "colab": {
          "base_uri": "https://localhost:8080/"
        },
        "id": "ZWMPZzyf1KfN",
        "outputId": "5332abd7-b644-40de-c0bc-94395b698d64"
      },
      "execution_count": null,
      "outputs": [
        {
          "output_type": "execute_result",
          "data": {
            "text/plain": [
              "True"
            ]
          },
          "metadata": {},
          "execution_count": 56
        }
      ]
    },
    {
      "cell_type": "code",
      "source": [
        "n = '1234'\n",
        "n.isdigit()"
      ],
      "metadata": {
        "colab": {
          "base_uri": "https://localhost:8080/"
        },
        "id": "fnBA5jRE-o9M",
        "outputId": "32c05027-4a29-432c-c742-a38ceaa21edd"
      },
      "execution_count": null,
      "outputs": [
        {
          "output_type": "execute_result",
          "data": {
            "text/plain": [
              "True"
            ]
          },
          "metadata": {},
          "execution_count": 16
        }
      ]
    },
    {
      "cell_type": "code",
      "source": [
        "if not n.isdigit():\n",
        "    print(\"you did not enter a number\")\n",
        "else:\n",
        "    n = int(n)\n",
        "    print(n)"
      ],
      "metadata": {
        "colab": {
          "base_uri": "https://localhost:8080/"
        },
        "id": "mSZ1IMdN-vId",
        "outputId": "0430a165-652f-4caf-8243-cf92e7c90072"
      },
      "execution_count": null,
      "outputs": [
        {
          "output_type": "stream",
          "name": "stdout",
          "text": [
            "1234\n"
          ]
        }
      ]
    }
  ]
}